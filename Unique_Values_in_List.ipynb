{
 "cells": [
  {
   "cell_type": "markdown",
   "metadata": {},
   "source": [
    "# Purpose: the fastest way to find unique values in a list"
   ]
  },
  {
   "cell_type": "markdown",
   "metadata": {},
   "source": [
    "There are several ways to find unique values in a list.  \n",
    "In this file we evaluate the performance of different ways to find unique values.  \n",
    "Data set contains 300000 values between 560 and 999997617. You can access the data from the link below:  "
   ]
  },
  {
   "cell_type": "markdown",
   "metadata": {},
   "source": [
    "https://github.com/yusufcelik49/Python_Performance/blob/master/Unique_Data.txt"
   ]
  },
  {
   "cell_type": "markdown",
   "metadata": {},
   "source": [
    "### Data"
   ]
  },
  {
   "cell_type": "code",
   "execution_count": null,
   "metadata": {},
   "outputs": [],
   "source": [
    "scores = list(map(int, input().rstrip().split()))"
   ]
  },
  {
   "cell_type": "code",
   "execution_count": 31,
   "metadata": {},
   "outputs": [],
   "source": [
    "scores.sort(reverse=True)"
   ]
  },
  {
   "cell_type": "code",
   "execution_count": 14,
   "metadata": {},
   "outputs": [
    {
     "data": {
      "text/plain": [
       "(300000, 560, 999997617)"
      ]
     },
     "execution_count": 14,
     "metadata": {},
     "output_type": "execute_result"
    }
   ],
   "source": [
    "len(scores), min(scores), max(scores)"
   ]
  },
  {
   "cell_type": "markdown",
   "metadata": {},
   "source": [
    "# Rank 8: for"
   ]
  },
  {
   "cell_type": "code",
   "execution_count": 98,
   "metadata": {
    "scrolled": true
   },
   "outputs": [
    {
     "name": "stdout",
     "output_type": "stream",
     "text": [
      "Number of Unique values : 299948\n",
      "Average Time:  696.859400899999\n"
     ]
    }
   ],
   "source": [
    "import timeit\n",
    "\n",
    "average_time=[]\n",
    "for i in range(1):    # it is just 1 times because it is toooooo slow\n",
    "    start = timeit.default_timer()\n",
    "\n",
    "    D=[]\n",
    "    for x in scores:\n",
    "        if x not in D:\n",
    "            D.append(x)\n",
    "\n",
    "    stop = timeit.default_timer()\n",
    "    finish = (stop - start)\n",
    "    average_time.append(finish)\n",
    "\n",
    "print(\"Number of Unique values :\", len(D))\n",
    "print('Average Time: ', sum(average_time)/1 ) "
   ]
  },
  {
   "cell_type": "markdown",
   "metadata": {},
   "source": [
    "# Rank 7: OrderedDict"
   ]
  },
  {
   "cell_type": "code",
   "execution_count": 86,
   "metadata": {},
   "outputs": [
    {
     "name": "stdout",
     "output_type": "stream",
     "text": [
      "Number of Unique values : 299948\n",
      "Average Time:  0.2751819999999043\n"
     ]
    }
   ],
   "source": [
    "from collections import OrderedDict\n",
    "import timeit\n",
    "\n",
    "average_time=[]\n",
    "for i in range(20):\n",
    "    start = timeit.default_timer()\n",
    "\n",
    "    D = list(OrderedDict( (x,1) for x in scores ).keys())\n",
    "\n",
    "    stop = timeit.default_timer()\n",
    "    finish = (stop - start)\n",
    "    average_time.append(finish)\n",
    "\n",
    "print(\"Number of Unique values :\", len(D))\n",
    "print('Average Time: ', sum(average_time)/20 ) "
   ]
  },
  {
   "cell_type": "code",
   "execution_count": null,
   "metadata": {},
   "outputs": [],
   "source": []
  },
  {
   "cell_type": "markdown",
   "metadata": {},
   "source": [
    "# Rank 6: pandas"
   ]
  },
  {
   "cell_type": "code",
   "execution_count": 94,
   "metadata": {},
   "outputs": [
    {
     "name": "stdout",
     "output_type": "stream",
     "text": [
      "Number of Unique values : 299948\n",
      "Average Time:  0.15470474999988254\n"
     ]
    }
   ],
   "source": [
    "import pandas\n",
    "import timeit\n",
    "\n",
    "average_time=[]\n",
    "for i in range(20):\n",
    "    start = timeit.default_timer()\n",
    "\n",
    "    D=pandas.DataFrame(scores)\n",
    "    E=list(D[0].unique())\n",
    "\n",
    "    stop = timeit.default_timer()\n",
    "    finish = (stop - start)\n",
    "    average_time.append(finish)\n",
    "\n",
    "print(\"Number of Unique values :\", len(E))\n",
    "print('Average Time: ', sum(average_time)/20 )   "
   ]
  },
  {
   "cell_type": "code",
   "execution_count": null,
   "metadata": {},
   "outputs": [],
   "source": []
  },
  {
   "cell_type": "markdown",
   "metadata": {},
   "source": [
    "# Rank 5: sets"
   ]
  },
  {
   "cell_type": "code",
   "execution_count": 93,
   "metadata": {},
   "outputs": [
    {
     "name": "stdout",
     "output_type": "stream",
     "text": [
      "Number of Unique values : 299948\n",
      "Average Time:  0.1323434299999917\n"
     ]
    }
   ],
   "source": [
    "import timeit\n",
    "\n",
    "\n",
    "average_time=[]\n",
    "for i in range(20):\n",
    "    start = timeit.default_timer()\n",
    "\n",
    "    A=list(set(scores))\n",
    "    A.sort(reverse=True)\n",
    "       \n",
    "    stop = timeit.default_timer()\n",
    "    finish = (stop - start)\n",
    "    average_time.append(finish)\n",
    "\n",
    "print(\"Number of Unique values :\", len(A))\n",
    "print('Average Time: ', sum(average_time)/20 ) "
   ]
  },
  {
   "cell_type": "markdown",
   "metadata": {},
   "source": [
    "# Rank 4: dic"
   ]
  },
  {
   "cell_type": "code",
   "execution_count": 87,
   "metadata": {
    "scrolled": true
   },
   "outputs": [
    {
     "name": "stdout",
     "output_type": "stream",
     "text": [
      "Number of Unique values : 299948\n",
      "Average Time:  0.09168927999994594\n"
     ]
    }
   ],
   "source": [
    "import timeit\n",
    "\n",
    "average_time=[]\n",
    "for i in range(20):\n",
    "    start = timeit.default_timer()\n",
    "\n",
    "    e = {}\n",
    "    for x in scores:\n",
    "        e[x] = 1\n",
    "    D = list(e.keys())\n",
    "\n",
    "    stop = timeit.default_timer()\n",
    "    finish = (stop - start)\n",
    "    average_time.append(finish)\n",
    "\n",
    "print(\"Number of Unique values :\", len(D))\n",
    "print('Average Time: ', sum(average_time)/20 ) "
   ]
  },
  {
   "cell_type": "markdown",
   "metadata": {},
   "source": [
    "# Rank 3: for"
   ]
  },
  {
   "cell_type": "code",
   "execution_count": 91,
   "metadata": {},
   "outputs": [
    {
     "name": "stdout",
     "output_type": "stream",
     "text": [
      "Number of Unique values : 299948\n",
      "Average Time:  0.08515901499990833\n"
     ]
    }
   ],
   "source": [
    "import timeit\n",
    "\n",
    "\n",
    "average_time=[]\n",
    "for i in range(20):\n",
    "    start = timeit.default_timer()\n",
    "\n",
    "    B=[scores[i] for i in range(len(scores)-1) if scores[i]>scores[i+1]]\n",
    "    B.insert(0,scores[-1])\n",
    "       \n",
    "    stop = timeit.default_timer()\n",
    "    finish = (stop - start)\n",
    "    average_time.append(finish)\n",
    "\n",
    "print(\"Number of Unique values :\", len(B))\n",
    "print('Average Time: ', sum(average_time)/20 ) "
   ]
  },
  {
   "cell_type": "markdown",
   "metadata": {},
   "source": [
    "# Rank 2: numpy"
   ]
  },
  {
   "cell_type": "code",
   "execution_count": 73,
   "metadata": {},
   "outputs": [
    {
     "name": "stdout",
     "output_type": "stream",
     "text": [
      "Number of Unique values : 299948\n",
      "Average Time:  0.07184400999999525\n"
     ]
    }
   ],
   "source": [
    "import numpy\n",
    "import timeit\n",
    "\n",
    "average_time=[]\n",
    "for i in range(20):\n",
    "    start = timeit.default_timer()\n",
    "\n",
    "    D=numpy.unique(scores)\n",
    "    E=list(D)\n",
    "\n",
    "    stop = timeit.default_timer()\n",
    "    finish = (stop - start)\n",
    "    average_time.append(finish)\n",
    "\n",
    "print(\"Number of Unique values :\", len(E))\n",
    "print('Average Time: ', sum(average_time)/20 )\n"
   ]
  },
  {
   "cell_type": "markdown",
   "metadata": {},
   "source": [
    "# Rank 1: Counter"
   ]
  },
  {
   "cell_type": "code",
   "execution_count": 78,
   "metadata": {},
   "outputs": [
    {
     "name": "stdout",
     "output_type": "stream",
     "text": [
      "Number of Unique values : 299948\n",
      "Average Time:  0.06609903000007762\n"
     ]
    }
   ],
   "source": [
    "from collections import Counter\n",
    "import timeit\n",
    "\n",
    "average_time=[]\n",
    "for i in range(20):\n",
    "    \n",
    "    start = timeit.default_timer()\n",
    "    D=list(Counter(scores).keys())\n",
    "\n",
    "    stop = timeit.default_timer()\n",
    "    finish = (stop - start)\n",
    "    average_time.append(finish)\n",
    "\n",
    "print(\"Number of Unique values :\", len(E))\n",
    "print('Average Time: ', sum(average_time)/20 )"
   ]
  }
 ],
 "metadata": {
  "kernelspec": {
   "display_name": "Python 3",
   "language": "python",
   "name": "python3"
  },
  "language_info": {
   "codemirror_mode": {
    "name": "ipython",
    "version": 3
   },
   "file_extension": ".py",
   "mimetype": "text/x-python",
   "name": "python",
   "nbconvert_exporter": "python",
   "pygments_lexer": "ipython3",
   "version": "3.7.6"
  }
 },
 "nbformat": 4,
 "nbformat_minor": 4
}
